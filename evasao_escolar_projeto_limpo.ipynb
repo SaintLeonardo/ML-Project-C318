{
 "cells": [
  {
   "cell_type": "code",
   "execution_count": null,
   "id": "6a8398d5",
   "metadata": {},
   "outputs": [],
   "source": []
  },
  {
   "cell_type": "markdown",
   "id": "e9f333bf",
   "metadata": {},
   "source": [
    "## 1. Importação das bibliotecas"
   ]
  },
  {
   "cell_type": "code",
   "execution_count": 1,
   "id": "9eab060b",
   "metadata": {},
   "outputs": [],
   "source": [
    "\n",
    "import pandas as pd\n",
    "import numpy as np\n"
   ]
  },
  {
   "cell_type": "markdown",
   "id": "80e70bc0",
   "metadata": {},
   "source": [
    "## 2. Carregamento dos dados"
   ]
  },
  {
   "cell_type": "code",
   "execution_count": 2,
   "id": "d55b3cad",
   "metadata": {},
   "outputs": [],
   "source": [
    "\n",
    "# Carregando o dataset macro (abandono e renda média)\n",
    "df_ab = pd.read_csv('AbandonoEscolar_RendaMedia_2013_2023.csv')\n",
    "\n",
    "# Carregando o Censo Escolar\n",
    "df_censo = pd.read_csv('microdados_ed_basica_2022.csv', sep=';', encoding='latin1', low_memory=False)\n"
   ]
  },
  {
   "cell_type": "markdown",
   "id": "1b9d8f1d",
   "metadata": {},
   "source": [
    "## 3. Mapeamento e limpeza da coluna 'UF'"
   ]
  },
  {
   "cell_type": "code",
   "execution_count": 3,
   "id": "d41f27e0",
   "metadata": {},
   "outputs": [],
   "source": [
    "\n",
    "# Mapeando nome das UFs para siglas\n",
    "mapa_ufs = {\n",
    "    'Rondônia': 'RO', 'Acre': 'AC', 'Amazonas': 'AM', 'Roraima': 'RR',\n",
    "    'Pará': 'PA', 'Amapá': 'AP', 'Tocantins': 'TO',\n",
    "    'Maranhão': 'MA', 'Piauí': 'PI', 'Ceará': 'CE', 'Rio Grande do Norte': 'RN',\n",
    "    'Paraíba': 'PB', 'Pernambuco': 'PE', 'Alagoas': 'AL', 'Sergipe': 'SE', 'Bahia': 'BA',\n",
    "    'Minas Gerais': 'MG', 'Espírito Santo': 'ES', 'Rio de Janeiro': 'RJ', 'São Paulo': 'SP',\n",
    "    'Paraná': 'PR', 'Santa Catarina': 'SC', 'Rio Grande do Sul': 'RS',\n",
    "    'Mato Grosso do Sul': 'MS', 'Mato Grosso': 'MT', 'Goiás': 'GO', 'Distrito Federal': 'DF'\n",
    "}\n",
    "\n",
    "# Renomeando a coluna para facilitar o merge\n",
    "df_ab.rename(columns={'Unidade_Geografica': 'UF'}, inplace=True)\n",
    "\n",
    "# Aplicando o mapeamento e removendo linhas inválidas\n",
    "df_ab['UF'] = df_ab['UF'].map(mapa_ufs)\n",
    "df_ab.dropna(subset=['UF'], inplace=True)\n"
   ]
  },
  {
   "cell_type": "markdown",
   "id": "2cfb9311",
   "metadata": {},
   "source": [
    "## 4. Agregação dos dados do Censo Escolar"
   ]
  },
  {
   "cell_type": "code",
   "execution_count": 4,
   "id": "95cd80c7",
   "metadata": {},
   "outputs": [],
   "source": [
    "\n",
    "# Selecionando apenas colunas de interesse\n",
    "colunas_selecionadas = ['NU_ANO_CENSO', 'SG_UF', 'QT_MAT_BAS']\n",
    "df_censo_reduzido = df_censo[colunas_selecionadas].copy()\n",
    "df_censo_reduzido.rename(columns={'NU_ANO_CENSO': 'Ano', 'SG_UF': 'UF'}, inplace=True)\n",
    "\n",
    "# Agregando o total de matrículas por UF e Ano\n",
    "df_censo_agregado = df_censo_reduzido.groupby(['Ano', 'UF'])['QT_MAT_BAS'].sum().reset_index()\n"
   ]
  },
  {
   "cell_type": "markdown",
   "id": "993f4ca3",
   "metadata": {},
   "source": [
    "## 5. Mesclando os dados"
   ]
  },
  {
   "cell_type": "code",
   "execution_count": 5,
   "id": "90dd7e36",
   "metadata": {},
   "outputs": [
    {
     "data": {
      "text/html": [
       "<div>\n",
       "<style scoped>\n",
       "    .dataframe tbody tr th:only-of-type {\n",
       "        vertical-align: middle;\n",
       "    }\n",
       "\n",
       "    .dataframe tbody tr th {\n",
       "        vertical-align: top;\n",
       "    }\n",
       "\n",
       "    .dataframe thead th {\n",
       "        text-align: right;\n",
       "    }\n",
       "</style>\n",
       "<table border=\"1\" class=\"dataframe\">\n",
       "  <thead>\n",
       "    <tr style=\"text-align: right;\">\n",
       "      <th></th>\n",
       "      <th>Ano</th>\n",
       "      <th>UF</th>\n",
       "      <th>Regiao</th>\n",
       "      <th>Localizacao</th>\n",
       "      <th>Dependencia_Administrativa</th>\n",
       "      <th>Grupo_de_Abandono</th>\n",
       "      <th>Taxa_Abandono</th>\n",
       "      <th>Renda_Media</th>\n",
       "      <th>QT_MAT_BAS</th>\n",
       "    </tr>\n",
       "  </thead>\n",
       "  <tbody>\n",
       "    <tr>\n",
       "      <th>0</th>\n",
       "      <td>2013</td>\n",
       "      <td>RO</td>\n",
       "      <td>Norte</td>\n",
       "      <td>Total</td>\n",
       "      <td>Total</td>\n",
       "      <td>Ensino Fundamental</td>\n",
       "      <td>2.5</td>\n",
       "      <td>2374</td>\n",
       "      <td>NaN</td>\n",
       "    </tr>\n",
       "    <tr>\n",
       "      <th>1</th>\n",
       "      <td>2013</td>\n",
       "      <td>RO</td>\n",
       "      <td>Norte</td>\n",
       "      <td>Total</td>\n",
       "      <td>Pública</td>\n",
       "      <td>Ensino Fundamental</td>\n",
       "      <td>2.7</td>\n",
       "      <td>2374</td>\n",
       "      <td>NaN</td>\n",
       "    </tr>\n",
       "    <tr>\n",
       "      <th>2</th>\n",
       "      <td>2013</td>\n",
       "      <td>RO</td>\n",
       "      <td>Norte</td>\n",
       "      <td>Total</td>\n",
       "      <td>Privada</td>\n",
       "      <td>Ensino Fundamental</td>\n",
       "      <td>0.1</td>\n",
       "      <td>2374</td>\n",
       "      <td>NaN</td>\n",
       "    </tr>\n",
       "    <tr>\n",
       "      <th>3</th>\n",
       "      <td>2013</td>\n",
       "      <td>RO</td>\n",
       "      <td>Norte</td>\n",
       "      <td>Total</td>\n",
       "      <td>Municipal</td>\n",
       "      <td>Ensino Fundamental</td>\n",
       "      <td>2.0</td>\n",
       "      <td>2374</td>\n",
       "      <td>NaN</td>\n",
       "    </tr>\n",
       "    <tr>\n",
       "      <th>4</th>\n",
       "      <td>2013</td>\n",
       "      <td>RO</td>\n",
       "      <td>Norte</td>\n",
       "      <td>Total</td>\n",
       "      <td>Federal</td>\n",
       "      <td>Ensino Fundamental</td>\n",
       "      <td>NaN</td>\n",
       "      <td>2374</td>\n",
       "      <td>NaN</td>\n",
       "    </tr>\n",
       "  </tbody>\n",
       "</table>\n",
       "</div>"
      ],
      "text/plain": [
       "    Ano  UF Regiao Localizacao Dependencia_Administrativa   Grupo_de_Abandono  \\\n",
       "0  2013  RO  Norte       Total                      Total  Ensino Fundamental   \n",
       "1  2013  RO  Norte       Total                    Pública  Ensino Fundamental   \n",
       "2  2013  RO  Norte       Total                    Privada  Ensino Fundamental   \n",
       "3  2013  RO  Norte       Total                  Municipal  Ensino Fundamental   \n",
       "4  2013  RO  Norte       Total                    Federal  Ensino Fundamental   \n",
       "\n",
       "   Taxa_Abandono  Renda_Media  QT_MAT_BAS  \n",
       "0            2.5         2374         NaN  \n",
       "1            2.7         2374         NaN  \n",
       "2            0.1         2374         NaN  \n",
       "3            2.0         2374         NaN  \n",
       "4            NaN         2374         NaN  "
      ]
     },
     "execution_count": 5,
     "metadata": {},
     "output_type": "execute_result"
    }
   ],
   "source": [
    "\n",
    "# Merge entre os dados de abandono e censo\n",
    "df_final = pd.merge(df_ab, df_censo_agregado, on=['Ano', 'UF'], how='left')\n",
    "\n",
    "# Exibindo amostra do dataframe final\n",
    "df_final.head()\n"
   ]
  },
  {
   "cell_type": "code",
   "execution_count": null,
   "id": "55320bca",
   "metadata": {},
   "outputs": [],
   "source": []
  }
 ],
 "metadata": {
  "kernelspec": {
   "display_name": "Python 3 (ipykernel)",
   "language": "python",
   "name": "python3"
  },
  "language_info": {
   "codemirror_mode": {
    "name": "ipython",
    "version": 3
   },
   "file_extension": ".py",
   "mimetype": "text/x-python",
   "name": "python",
   "nbconvert_exporter": "python",
   "pygments_lexer": "ipython3",
   "version": "3.10.9"
  }
 },
 "nbformat": 4,
 "nbformat_minor": 5
}
